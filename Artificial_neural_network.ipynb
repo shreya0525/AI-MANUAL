{
  "nbformat": 4,
  "nbformat_minor": 0,
  "metadata": {
    "colab": {
      "provenance": []
    },
    "kernelspec": {
      "name": "python3",
      "display_name": "Python 3"
    },
    "language_info": {
      "name": "python"
    }
  },
  "cells": [
    {
      "cell_type": "code",
      "execution_count": 1,
      "metadata": {
        "colab": {
          "base_uri": "https://localhost:8080/"
        },
        "id": "LkfVWhXRAOYf",
        "outputId": "9a67f7f2-2cba-4cb3-8978-5edba472df98"
      },
      "outputs": [
        {
          "output_type": "stream",
          "name": "stdout",
          "text": [
            "Predictions after training:\n",
            "[[0.02836113]\n",
            " [0.93328084]\n",
            " [0.9327218 ]\n",
            " [0.08334721]]\n"
          ]
        }
      ],
      "source": [
        "import numpy as np\n",
        "\n",
        "# Activation function (Sigmoid) and its derivative\n",
        "def sigmoid(x):\n",
        "    return 1 / (1 + np.exp(-x))\n",
        "\n",
        "def sigmoid_derivative(x):\n",
        "    return x * (1 - x)\n",
        "\n",
        "# Dataset: Input (X) and Output (y)\n",
        "X = np.array([[0, 0], [0, 1], [1, 0], [1, 1]])\n",
        "y = np.array([[0], [1], [1], [0]])  # XOR problem\n",
        "\n",
        "# Initialize weights and biases randomly\n",
        "np.random.seed(42)\n",
        "weights_input_hidden = np.random.rand(2, 3)\n",
        "weights_hidden_output = np.random.rand(3, 1)\n",
        "bias_hidden = np.random.rand(1, 3)\n",
        "bias_output = np.random.rand(1, 1)\n",
        "\n",
        "# Training the neural network\n",
        "epochs = 10000\n",
        "learning_rate = 0.1\n",
        "\n",
        "for _ in range(epochs):\n",
        "    # Forward propagation\n",
        "    hidden_input = np.dot(X, weights_input_hidden) + bias_hidden\n",
        "    hidden_output = sigmoid(hidden_input)\n",
        "    final_input = np.dot(hidden_output, weights_hidden_output) + bias_output\n",
        "    final_output = sigmoid(final_input)\n",
        "\n",
        "    # Compute error\n",
        "    error = y - final_output\n",
        "\n",
        "    # Backpropagation\n",
        "    d_output = error * sigmoid_derivative(final_output)\n",
        "    d_hidden = d_output.dot(weights_hidden_output.T) * sigmoid_derivative(hidden_output)\n",
        "\n",
        "    # Update weights and biases\n",
        "    weights_hidden_output += hidden_output.T.dot(d_output) * learning_rate\n",
        "    weights_input_hidden += X.T.dot(d_hidden) * learning_rate\n",
        "    bias_output += np.sum(d_output, axis=0, keepdims=True) * learning_rate\n",
        "    bias_hidden += np.sum(d_hidden, axis=0, keepdims=True) * learning_rate\n",
        "\n",
        "# Testing the trained model\n",
        "print(\"Predictions after training:\")\n",
        "hidden_input = np.dot(X, weights_input_hidden) + bias_hidden\n",
        "hidden_output = sigmoid(hidden_input)\n",
        "final_input = np.dot(hidden_output, weights_hidden_output) + bias_output\n",
        "final_output = sigmoid(final_input)\n",
        "print(final_output)\n",
        "\n"
      ]
    }
  ]
}