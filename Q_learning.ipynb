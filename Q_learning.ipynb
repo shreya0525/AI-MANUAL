{
  "nbformat": 4,
  "nbformat_minor": 0,
  "metadata": {
    "colab": {
      "provenance": []
    },
    "kernelspec": {
      "name": "python3",
      "display_name": "Python 3"
    },
    "language_info": {
      "name": "python"
    }
  },
  "cells": [
    {
      "cell_type": "code",
      "execution_count": 1,
      "metadata": {
        "id": "1-5o5CXBAo8l",
        "outputId": "5d05f65a-b445-4d7e-c0ec-1784cd0738f3",
        "colab": {
          "base_uri": "https://localhost:8080/"
        }
      },
      "outputs": [
        {
          "output_type": "stream",
          "name": "stdout",
          "text": [
            "[[[ 4.43322205e-02  3.95030741e-02  1.80980000e-01  4.65065987e-02]\n",
            "  [-1.34816781e-01 -1.41671235e-01  2.90224749e-01 -1.31254187e-01]\n",
            "  [-8.23190692e-02 -8.09880535e-02 -2.54866696e-02 -7.72553056e-02]\n",
            "  [-3.85219000e-02 -4.23886210e-02 -1.27243907e-02 -3.94039900e-02]]\n",
            "\n",
            " [[ 3.12200000e-01  1.54763484e-01  2.70347445e-01  4.51092658e-02]\n",
            "  [ 2.93778540e-01  1.35077597e-01  4.58000000e-01  5.09675121e-02]\n",
            "  [ 4.67476013e-02 -1.84190184e-02  5.59883195e-01 -5.46739200e-02]\n",
            "  [-1.99000000e-02 -1.99000000e-02  5.15106677e-01 -1.00000000e-02]]\n",
            "\n",
            " [[ 4.55260510e-01  2.96386138e-02 -1.09986430e-04 -4.42887595e-02]\n",
            "  [ 5.97700758e-01  2.37105825e-01  6.20000000e-01  2.90185340e-01]\n",
            "  [ 7.99701556e-01 -2.80424771e-02  2.68559000e-01  1.36630537e-02]\n",
            "  [ 7.09944467e-02 -1.00000000e-02  9.99980637e-01  6.25845586e-02]]\n",
            "\n",
            " [[ 5.74173042e-01 -2.97010000e-02 -2.97010000e-02 -4.33802349e-03]\n",
            "  [ 8.00000000e-01  3.03558107e-01  5.42869803e-01  4.35304600e-01]\n",
            "  [ 1.00000000e+00  5.17663807e-01  6.84580452e-01  5.41583565e-01]\n",
            "  [ 0.00000000e+00  0.00000000e+00  0.00000000e+00  0.00000000e+00]]]\n"
          ]
        }
      ],
      "source": [
        "import numpy as np\n",
        "import random\n",
        "\n",
        "# Initialize environment\n",
        "grid_size = 4\n",
        "Q = np.zeros((grid_size, grid_size, 4))  # Q-table with 4 possible actions\n",
        "\n",
        "# Parameters\n",
        "alpha, gamma, epsilon, episodes = 0.1, 0.9, 0.1, 1000\n",
        "actions = [(0, 1), (0, -1), (1, 0), (-1, 0)]  # Right, Left, Down, Up\n",
        "\n",
        "# Training\n",
        "for _ in range(episodes):\n",
        "    state = (0, 0)  # Start position\n",
        "    while state != (3, 3):  # Goal\n",
        "        if random.uniform(0, 1) < epsilon:\n",
        "            action = random.randint(0, 3)  # Explore\n",
        "        else:\n",
        "            action = np.argmax(Q[state[0], state[1]])  # Exploit\n",
        "\n",
        "        next_state = (max(0, min(grid_size - 1, state[0] + actions[action][0])),\n",
        "                      max(0, min(grid_size - 1, state[1] + actions[action][1])))\n",
        "\n",
        "        reward = 1 if next_state == (3, 3) else -0.1\n",
        "        Q[state[0], state[1], action] = (1 - alpha) * Q[state[0], state[1], action] + \\\n",
        "                                         alpha * (reward + gamma * np.max(Q[next_state[0], next_state[1]]))\n",
        "        state = next_state\n",
        "\n",
        "# Display learned Q-values\n",
        "print(Q)\n",
        "\n"
      ]
    }
  ]
}