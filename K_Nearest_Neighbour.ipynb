{
  "nbformat": 4,
  "nbformat_minor": 0,
  "metadata": {
    "colab": {
      "provenance": []
    },
    "kernelspec": {
      "name": "python3",
      "display_name": "Python 3"
    },
    "language_info": {
      "name": "python"
    }
  },
  "cells": [
    {
      "cell_type": "code",
      "execution_count": 1,
      "metadata": {
        "colab": {
          "base_uri": "https://localhost:8080/"
        },
        "id": "xfcYwYCG-l0P",
        "outputId": "25ebc56f-2b60-4fcb-a90b-536eeb8451da"
      },
      "outputs": [
        {
          "output_type": "stream",
          "name": "stdout",
          "text": [
            "Column Names: Index(['sepal_length', 'sepal_width', 'petal_length', 'petal_width',\n",
            "       'species'],\n",
            "      dtype='object')\n",
            "\n",
            "Predictions:\n",
            "Actual: 1, Predicted: 1 -> ✅ Correct\n",
            "Actual: 0, Predicted: 0 -> ✅ Correct\n",
            "Actual: 2, Predicted: 2 -> ✅ Correct\n",
            "Actual: 1, Predicted: 1 -> ✅ Correct\n",
            "Actual: 1, Predicted: 1 -> ✅ Correct\n",
            "Actual: 0, Predicted: 0 -> ✅ Correct\n",
            "Actual: 1, Predicted: 1 -> ✅ Correct\n",
            "Actual: 2, Predicted: 2 -> ✅ Correct\n",
            "Actual: 1, Predicted: 1 -> ✅ Correct\n",
            "Actual: 1, Predicted: 1 -> ✅ Correct\n",
            "Actual: 2, Predicted: 2 -> ✅ Correct\n",
            "Actual: 0, Predicted: 0 -> ✅ Correct\n",
            "Actual: 0, Predicted: 0 -> ✅ Correct\n",
            "Actual: 0, Predicted: 0 -> ✅ Correct\n",
            "Actual: 0, Predicted: 0 -> ✅ Correct\n",
            "Actual: 1, Predicted: 1 -> ✅ Correct\n",
            "Actual: 2, Predicted: 2 -> ✅ Correct\n",
            "Actual: 1, Predicted: 1 -> ✅ Correct\n",
            "Actual: 1, Predicted: 1 -> ✅ Correct\n",
            "Actual: 2, Predicted: 2 -> ✅ Correct\n",
            "Actual: 0, Predicted: 0 -> ✅ Correct\n",
            "Actual: 2, Predicted: 2 -> ✅ Correct\n",
            "Actual: 0, Predicted: 0 -> ✅ Correct\n",
            "Actual: 2, Predicted: 2 -> ✅ Correct\n",
            "Actual: 2, Predicted: 2 -> ✅ Correct\n",
            "Actual: 2, Predicted: 2 -> ✅ Correct\n",
            "Actual: 2, Predicted: 2 -> ✅ Correct\n",
            "Actual: 2, Predicted: 2 -> ✅ Correct\n",
            "Actual: 0, Predicted: 0 -> ✅ Correct\n",
            "Actual: 0, Predicted: 0 -> ✅ Correct\n",
            "\n",
            "Accuracy: 1.0\n"
          ]
        }
      ],
      "source": [
        "import numpy as np\n",
        "import pandas as pd\n",
        "import matplotlib.pyplot as plt\n",
        "from sklearn.model_selection import train_test_split\n",
        "from sklearn.neighbors import KNeighborsClassifier\n",
        "from sklearn.metrics import accuracy_score\n",
        "\n",
        "# 1. Load Dataset (Directly from URL)\n",
        "url = \"https://raw.githubusercontent.com/uiuc-cse/data-fa14/gh-pages/data/iris.csv\"\n",
        "iris = pd.read_csv(url)\n",
        "\n",
        "# Print column names to verify\n",
        "print(\"Column Names:\", iris.columns)\n",
        "\n",
        "# Rename columns if necessary\n",
        "if 'species' not in iris.columns and 'Species' in iris.columns:\n",
        "    iris.rename(columns={'Species': 'species'}, inplace=True)\n",
        "\n",
        "# Convert categorical target column to numeric\n",
        "iris['species'] = pd.factorize(iris['species'])[0]\n",
        "\n",
        "# Define features and target\n",
        "X = iris.iloc[:, :-1].values  # Select all columns except last (features)\n",
        "y = iris.iloc[:, -1].values   # Last column (target)\n",
        "\n",
        "# 2. Split Data\n",
        "X_train, X_test, y_train, y_test = train_test_split(X, y, test_size=0.2, random_state=42)\n",
        "\n",
        "# 3. Train KNN Model\n",
        "knn = KNeighborsClassifier(n_neighbors=5)  # K=5\n",
        "knn.fit(X_train, y_train)\n",
        "\n",
        "# 4. Predict & Compare\n",
        "y_pred = knn.predict(X_test)\n",
        "\n",
        "# Print correct and incorrect predictions\n",
        "print(\"\\nPredictions:\")\n",
        "for i in range(len(y_test)):\n",
        "    result = \"✅ Correct\" if y_pred[i] == y_test[i] else \"❌ Incorrect\"\n",
        "    print(f\"Actual: {y_test[i]}, Predicted: {y_pred[i]} -> {result}\")\n",
        "\n",
        "# 5. Print Accuracy\n",
        "accuracy = accuracy_score(y_test, y_pred)\n",
        "print(\"\\nAccuracy:\", accuracy)\n",
        "\n"
      ]
    }
  ]
}